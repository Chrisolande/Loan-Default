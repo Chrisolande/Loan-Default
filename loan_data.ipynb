{
 "cells": [
  {
   "cell_type": "code",
   "execution_count": 36,
   "metadata": {},
   "outputs": [],
   "source": [
    "librarian::shelf(tidyverse, tidymodels, DataExplorer, GGally, corrplot, plotly, viridis,\n",
    "pROC, randomForest, factoextra, cluster, ggthemes, ggridges, scales, vcd, kableExtra, DT, \n",
    "MASS, Rtsne, tsne, umap, conflicted)"
   ]
  },
  {
   "cell_type": "markdown",
   "metadata": {},
   "source": [
    "# 1. Introduction\n",
    "\n",
    "This document presents an intensive exploratory loan_data analysis (EDA) and statistical analysis of a loan default loan_dataset. The goal is to uncover patterns, relationships, and insights that can help predict loan defaults. The analysis includes:\n",
    "\n",
    "- loan_data preprocessing and cleaning\n",
    "- Univariate analysis with advanced visualizations\n",
    "- Bivariate and multivariate analysis\n",
    "- Correlation analysis with sophisticated visualizations\n",
    "- Feature importance and selection\n",
    "- Statistical modeling and predictive analysis\n",
    "- Advanced dimensionality reduction and visualization techniques\n",
    "\n",
    "Let's begin by loading and examining the loan_dataset.\n",
    "\n",
    "# 2. loan_data Loading and Initial Exploration"
   ]
  },
  {
   "cell_type": "code",
   "execution_count": 37,
   "metadata": {},
   "outputs": [
    {
     "name": "stdout",
     "output_type": "stream",
     "text": [
      "\u001b[1m\u001b[22m\u001b[90m[conflicted]\u001b[39m Removing existing preference.\n",
      "\u001b[1m\u001b[22m\u001b[90m[conflicted]\u001b[39m Will prefer \u001b[1m\u001b[34mdplyr\u001b[39m\u001b[22m::select over any other package.\n"
     ]
    }
   ],
   "source": [
    "conflicted::conflicts_prefer(dplyr::select)\n",
    "tidymodels_prefer()"
   ]
  },
  {
   "cell_type": "code",
   "execution_count": 38,
   "metadata": {},
   "outputs": [
    {
     "name": "stdout",
     "output_type": "stream",
     "text": [
      "\u001b[1mRows: \u001b[22m\u001b[34m148670\u001b[39m \u001b[1mColumns: \u001b[22m\u001b[34m34\u001b[39m\n",
      "\u001b[36m──\u001b[39m \u001b[1mColumn specification\u001b[22m \u001b[36m────────────────────────────────────────────────────────\u001b[39m\n",
      "\u001b[1mDelimiter:\u001b[22m \",\"\n",
      "\u001b[31mchr\u001b[39m (21): loan_limit, Gender, approv_in_adv, loan_type, loan_purpose, Credit...\n",
      "\u001b[32mdbl\u001b[39m (13): ID, year, loan_amount, rate_of_interest, Interest_rate_spread, Upf...\n",
      "\n",
      "\u001b[36mℹ\u001b[39m Use `spec()` to retrieve the full column specification for this data.\n",
      "\u001b[36mℹ\u001b[39m Specify the column types or set `show_col_types = FALSE` to quiet this message.\n"
     ]
    }
   ],
   "source": [
    "loan_data <- read_csv(\"dataset/Loan_Default.csv\")"
   ]
  },
  {
   "cell_type": "code",
   "execution_count": 39,
   "metadata": {},
   "outputs": [
    {
     "name": "stdout",
     "output_type": "stream",
     "text": [
      "Dimensions of the loan_dataset 148670 rows and  34  columns"
     ]
    }
   ],
   "source": [
    "cat(\"Dimensions of the loan_dataset\", dim(loan_data)[1], \"rows and \", dim(loan_data)[2], \" columns\")"
   ]
  },
  {
   "cell_type": "code",
   "execution_count": 40,
   "metadata": {},
   "outputs": [
    {
     "data": {
      "text/plain": [
       "\u001b[38;5;246m# A tibble: 6 × 34\u001b[39m\n",
       "     ID  year loan_limit Gender            approv_in_adv loan_type loan_purpose\n",
       "  \u001b[3m\u001b[38;5;246m<dbl>\u001b[39m\u001b[23m \u001b[3m\u001b[38;5;246m<dbl>\u001b[39m\u001b[23m \u001b[3m\u001b[38;5;246m<chr>\u001b[39m\u001b[23m      \u001b[3m\u001b[38;5;246m<chr>\u001b[39m\u001b[23m             \u001b[3m\u001b[38;5;246m<chr>\u001b[39m\u001b[23m         \u001b[3m\u001b[38;5;246m<chr>\u001b[39m\u001b[23m     \u001b[3m\u001b[38;5;246m<chr>\u001b[39m\u001b[23m       \n",
       "\u001b[38;5;250m1\u001b[39m \u001b[4m2\u001b[24m\u001b[4m4\u001b[24m890  \u001b[4m2\u001b[24m019 cf         Sex Not Available nopre         type1     p1          \n",
       "\u001b[38;5;250m2\u001b[39m \u001b[4m2\u001b[24m\u001b[4m4\u001b[24m891  \u001b[4m2\u001b[24m019 cf         Male              nopre         type2     p1          \n",
       "\u001b[38;5;250m3\u001b[39m \u001b[4m2\u001b[24m\u001b[4m4\u001b[24m892  \u001b[4m2\u001b[24m019 cf         Male              pre           type1     p1          \n",
       "\u001b[38;5;250m4\u001b[39m \u001b[4m2\u001b[24m\u001b[4m4\u001b[24m893  \u001b[4m2\u001b[24m019 cf         Male              nopre         type1     p4          \n",
       "\u001b[38;5;250m5\u001b[39m \u001b[4m2\u001b[24m\u001b[4m4\u001b[24m894  \u001b[4m2\u001b[24m019 cf         Joint             pre           type1     p1          \n",
       "\u001b[38;5;250m6\u001b[39m \u001b[4m2\u001b[24m\u001b[4m4\u001b[24m895  \u001b[4m2\u001b[24m019 cf         Joint             pre           type1     p1          \n",
       "\u001b[38;5;246m# ℹ 27 more variables: Credit_Worthiness <chr>, open_credit <chr>,\u001b[39m\n",
       "\u001b[38;5;246m#   business_or_commercial <chr>, loan_amount <dbl>, rate_of_interest <dbl>,\u001b[39m\n",
       "\u001b[38;5;246m#   Interest_rate_spread <dbl>, Upfront_charges <dbl>, term <dbl>,\u001b[39m\n",
       "\u001b[38;5;246m#   Neg_ammortization <chr>, interest_only <chr>, lump_sum_payment <chr>,\u001b[39m\n",
       "\u001b[38;5;246m#   property_value <dbl>, construction_type <chr>, occupancy_type <chr>,\u001b[39m\n",
       "\u001b[38;5;246m#   Secured_by <chr>, total_units <chr>, income <dbl>, credit_type <chr>,\u001b[39m\n",
       "\u001b[38;5;246m#   Credit_Score <dbl>, `co-applicant_credit_type` <chr>, age <chr>, …\u001b[39m"
      ]
     },
     "execution_count": null,
     "metadata": {},
     "output_type": "execute_result"
    }
   ],
   "source": [
    "head(loan_data)"
   ]
  },
  {
   "cell_type": "code",
   "execution_count": null,
   "metadata": {},
   "outputs": [],
   "source": [
    "skimr::skim(loan_data) %>% \n",
    "  as.tibble() %>% \n",
    "  kable(caption = \"Summary Statistics of the loan loan_data\")"
   ]
  },
  {
   "cell_type": "code",
   "execution_count": 25,
   "metadata": {},
   "outputs": [],
   "source": [
    "# Convert all character loan_amounts to factors\n",
    "\n",
    "loan_data <- loan_data %>% mutate_if(is.character, as.factor)"
   ]
  },
  {
   "cell_type": "code",
   "execution_count": 34,
   "metadata": {},
   "outputs": [],
   "source": [
    "loan_data %>% \n",
    "  janitor::clean_names() %>%\n",
    "  select(-id) -> loan_data\n"
   ]
  },
  {
   "cell_type": "markdown",
   "metadata": {},
   "source": [
    "## Missing loan_data Analysis\n"
   ]
  },
  {
   "cell_type": "code",
   "execution_count": null,
   "metadata": {},
   "outputs": [],
   "source": [
    "plot_missing(loan_data, missing_only = TRUE, title = \"Missing Values Bar Chart\") +\n",
    "  theme_minimal() +\n",
    "  theme(axis.text.x = element_text(angle = 45, hjust = 1),\n",
    "        plot.title = element_text(face = \"bold\"))"
   ]
  },
  {
   "cell_type": "code",
   "execution_count": null,
   "metadata": {},
   "outputs": [],
   "source": [
    "# Function to find mode\n",
    "find_mode <- function(x) {\n",
    "  uniq_x <- unique(na.omit(x))\n",
    "  uniq_x[which.max(tabulate(match(na.omit(x), uniq_x)))]\n",
    "}\n",
    "\n",
    "# Impute missing values\n",
    "loan_data_imputed <- loan_data %>%\n",
    "  mutate(across(where(is.numeric), ~ifelse(is.na(.), median(., na.rm = TRUE), .)),\n",
    "         across(where(is.factor), ~as.factor(ifelse(is.na(.), as.character(find_mode(.)), as.character(.)))))\n",
    "\n",
    "# Check if imputation was successful\n",
    "any(is.na(loan_data_imputed))"
   ]
  },
  {
   "cell_type": "markdown",
   "metadata": {},
   "source": [
    "# 3. Univariate Analysis\n",
    "\n",
    "## 3.1 Distribution of Numeric loan_amounts"
   ]
  },
  {
   "cell_type": "code",
   "execution_count": null,
   "metadata": {},
   "outputs": [],
   "source": [
    "numeric_cols"
   ]
  },
  {
   "cell_type": "code",
   "execution_count": null,
   "metadata": {},
   "outputs": [],
   "source": [
    "library(gridExtra)\n",
    "numeric_cols <- loan_data %>% \n",
    "  select_if(is.numeric) %>% \n",
    "  names()\n",
    "advanced_density_plot <- function(data, variable) {\n",
    "  p <- ggplot(data, aes_string(x = variable)) +\n",
    "    geom_density(fill = \"#3498db\", alpha = 0.7) +\n",
    "    geom_rug(alpha = 0.1, color = \"#e74c3c\") +\n",
    "    stat_function(\n",
    "      fun = function(x) dnorm(x, mean = mean(data[[variable]], na.rm = TRUE), \n",
    "                              sd = sd(data[[variable]], na.rm = TRUE)),\n",
    "      color = \"#e74c3c\", linetype = \"dashed\", size = 1\n",
    "    ) +\n",
    "    labs(\n",
    "      title = paste(\"Distribution of\", variable),\n",
    "      subtitle = paste(\n",
    "        \"Mean =\", round(mean(data[[variable]], na.rm = TRUE), 2),\n",
    "        \"| Median =\", round(median(data[[variable]], na.rm = TRUE), 2),\n",
    "        \"| SD =\", round(sd(data[[variable]], na.rm = TRUE), 2)\n",
    "      ),\n",
    "      caption = paste(\n",
    "        \"Skewness =\", round(moments::skewness(data[[variable]], na.rm = TRUE), 2),\n",
    "        \"| Kurtosis =\", round(moments::kurtosis(data[[variable]], na.rm = TRUE), 2)\n",
    "      )\n",
    "    ) +\n",
    "    theme_minimal() +\n",
    "    theme(\n",
    "      plot.title = element_text(face = \"bold\", hjust = 0.5),\n",
    "      plot.subtitle = element_text(hjust = 0.5),\n",
    "      plot.caption = element_text(hjust = 1)\n",
    "    )\n",
    "  \n",
    "  return(p)\n",
    "}\n",
    "\n",
    "# Create density plots for the first 9 numeric variables\n",
    "if(length(numeric_cols) > 0) {\n",
    "  plot_list <- lapply(numeric_cols[1:min(9, length(numeric_cols))], \n",
    "                     function(col) advanced_density_plot(loan_data, col))\n",
    "  do.call(grid.arrange, c(plot_list, ncol = 3))\n",
    "}"
   ]
  },
  {
   "cell_type": "code",
   "execution_count": null,
   "metadata": {},
   "outputs": [],
   "source": [
    "if(length(numeric_cols) > 0) {\n",
    "  # Create a function for advanced boxplots\n",
    "  advanced_boxplot <- function(data, variable) {\n",
    "    # Calculate outlier bounds\n",
    "    q1 <- quantile(data[[variable]], 0.25, na.rm = TRUE)\n",
    "    q3 <- quantile(data[[variable]], 0.75, na.rm = TRUE)\n",
    "    iqr <- q3 - q1\n",
    "    lower_bound <- q1 - 1.5 * iqr\n",
    "    upper_bound <- q3 + 1.5 * iqr\n",
    "    \n",
    "    # Calculate percentage of outliers\n",
    "    outliers <- data[[variable]][data[[variable]] < lower_bound | data[[variable]] > upper_bound]\n",
    "    outlier_pct <- length(outliers) / length(na.omit(data[[variable]])) * 100\n",
    "    \n",
    "    p <- ggplot(data, aes_string(y = variable, x = 1)) +\n",
    "      geom_violin(fill = \"#9b59b6\", alpha = 0.6) +\n",
    "      geom_boxplot(width = 0.1, fill = \"#3498db\", alpha = 0.7, outlier.color = \"#e74c3c\") +\n",
    "      labs(\n",
    "        title = paste(\"Distribution of\", variable),\n",
    "        subtitle = paste(\n",
    "          \"IQR =\", round(iqr, 2),\n",
    "          \"| Outliers =\", round(outlier_pct, 2), \"%\"\n",
    "        ),\n",
    "        y = variable, x = \"\"\n",
    "      ) +\n",
    "      theme_minimal() +\n",
    "      theme(\n",
    "        plot.title = element_text(face = \"bold\", hjust = 0.5),\n",
    "        plot.subtitle = element_text(hjust = 0.5),\n",
    "        axis.text.x = element_blank(),\n",
    "        axis.ticks.x = element_blank()\n",
    "      )\n",
    "    \n",
    "    return(p)\n",
    "  }\n",
    "  \n",
    "  # Create boxplots for the first 9 numeric variables\n",
    "  plot_list <- lapply(numeric_cols[1:min(9, length(numeric_cols))], \n",
    "                     function(col) advanced_boxplot(loan_data, col))\n",
    "  do.call(grid.arrange, c(plot_list, ncol = 3))\n",
    "}"
   ]
  },
  {
   "cell_type": "code",
   "execution_count": null,
   "metadata": {},
   "outputs": [],
   "source": []
  }
 ],
 "metadata": {
  "language_info": {
   "name": "r"
  }
 },
 "nbformat": 4,
 "nbformat_minor": 2
}
